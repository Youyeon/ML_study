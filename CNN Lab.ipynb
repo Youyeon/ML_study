{
 "cells": [
  {
   "cell_type": "markdown",
   "metadata": {},
   "source": [
    "# Boostcourse CNN Lab"
   ]
  },
  {
   "cell_type": "markdown",
   "metadata": {},
   "source": [
    "## Lab 11-0 CNN Basics - Convolution"
   ]
  },
  {
   "cell_type": "code",
   "execution_count": 1,
   "metadata": {},
   "outputs": [],
   "source": [
    "# 라이브러리 호출\n",
    "import numpy as np\n",
    "import tensorflow as tf\n",
    "from tensorflow import keras\n",
    "import matplotlib.pyplot as plt"
   ]
  },
  {
   "cell_type": "code",
   "execution_count": 2,
   "metadata": {},
   "outputs": [
    {
     "name": "stdout",
     "output_type": "stream",
     "text": [
      "2.3.1\n",
      "2.4.0\n"
     ]
    }
   ],
   "source": [
    "print(tf.__version__)\n",
    "print(keras.__version__)"
   ]
  },
  {
   "cell_type": "code",
   "execution_count": 9,
   "metadata": {},
   "outputs": [
    {
     "name": "stdout",
     "output_type": "stream",
     "text": [
      "image.shape (1, 3, 3, 1)\n"
     ]
    },
    {
     "data": {
      "image/png": "[encoded data removed]",
      "text/plain": [
       "<Figure size 432x288 with 1 Axes>"
      ]
     },
     "metadata": {
      "needs_background": "light"
     },
     "output_type": "display_data"
    }
   ],
   "source": [
    "# Toy image\n",
    "image = tf.constant([[[[1],[2],[3]],\n",
    "                      [[4],[5],[6]],\n",
    "                      [[7],[8],[9]]]], dtype=np.float32)\n",
    "\n",
    "print(\"image.shape\", image.shape) # result: batch, height, width, channels\n",
    "plt.imshow(image.numpy().reshape(3,3), cmap='Greys')\n",
    "plt.show()"
   ]
  },
  {
   "cell_type": "markdown",
   "metadata": {},
   "source": [
    "### Simple Convolution Layer - Padding Valid"
   ]
  },
  {
   "cell_type": "code",
   "execution_count": 11,
   "metadata": {},
   "outputs": [
    {
     "name": "stdout",
     "output_type": "stream",
     "text": [
      "image.shape (1, 3, 3, 1)\n",
      "weight.shape (2, 2, 1, 1)\n",
      "conv2d.shape (1, 2, 2, 1)\n",
      "[[12. 16.]\n",
      " [24. 28.]]\n"
     ]
    },
    {
     "data": {
      "image/png": "[encoded data removed]",
      "text/plain": [
       "<Figure size 432x288 with 1 Axes>"
      ]
     },
     "metadata": {
      "needs_background": "light"
     },
     "output_type": "display_data"
    }
   ],
   "source": [
    "print(\"image.shape\", image.shape)\n",
    "\n",
    "# filter (weight)\n",
    "weight = np.array([[[[1.]],[[1.]]],\n",
    "                     [[[1.]],[[1.]]]])\n",
    "print(\"weight.shape\", weight.shape) #height, width, in_channel, out_channel\n",
    "\n",
    "weight_init = tf.constant_initializer(weight)\n",
    "conv2d = keras.layers.Conv2D(filters=1, kernel_size=2, padding='VALID', kernel_initializer=weight_init)(image)\n",
    "print(\"conv2d.shape\", conv2d.shape)\n",
    "print(conv2d.numpy().reshape(2,2))\n",
    "\n",
    "plt.imshow(conv2d.numpy().reshape(2,2), cmap='gray')\n",
    "plt.show()"
   ]
  },
  {
   "cell_type": "markdown",
   "metadata": {},
   "source": [
    "### Simple Convolution Layer - Padding Same"
   ]
  },
  {
   "cell_type": "code",
   "execution_count": 12,
   "metadata": {},
   "outputs": [
    {
     "name": "stdout",
     "output_type": "stream",
     "text": [
      "image.shape (1, 3, 3, 1)\n",
      "weight.shape (2, 2, 1, 1)\n",
      "conv2d.shape (1, 3, 3, 1)\n",
      "[[12. 16.  9.]\n",
      " [24. 28. 15.]\n",
      " [15. 17.  9.]]\n"
     ]
    },
    {
     "data": {
      "image/png": "[encoded data removed]",
      "text/plain": [
       "<Figure size 432x288 with 1 Axes>"
      ]
     },
     "metadata": {
      "needs_background": "light"
     },
     "output_type": "display_data"
    }
   ],
   "source": [
    "print(\"image.shape\", image.shape)\n",
    "\n",
    "# filter (weight)\n",
    "weight = np.array([[[[1.]],[[1.]]],\n",
    "                     [[[1.]],[[1.]]]])\n",
    "print(\"weight.shape\", weight.shape) #height, width, in_channel, out_channel\n",
    "\n",
    "weight_init = tf.constant_initializer(weight)\n",
    "conv2d = keras.layers.Conv2D(filters=1, kernel_size=2, padding='SAME', kernel_initializer=weight_init)(image)\n",
    "print(\"conv2d.shape\", conv2d.shape)\n",
    "print(conv2d.numpy().reshape(3,3))\n",
    "\n",
    "plt.imshow(conv2d.numpy().reshape(3,3), cmap='gray')\n",
    "plt.show()"
   ]
  },
  {
   "cell_type": "markdown",
   "metadata": {},
   "source": [
    "### Simple Convolution Layer - 3 Filters"
   ]
  },
  {
   "cell_type": "markdown",
   "metadata": {},
   "source": [
    "### Filter의 모양\n",
    "|filter|1||filter|2||filter|3|\n",
    "|:---:|:---:|:---:|:---:|:---:|:---:|:---:|:---:|\n",
    "|1|1||10|10||-1|-1|\n",
    "|1|1||10|10||-1|-1|"
   ]
  },
  {
   "cell_type": "code",
   "execution_count": 18,
   "metadata": {},
   "outputs": [
    {
     "name": "stdout",
     "output_type": "stream",
     "text": [
      "image.shape (1, 3, 3, 1)\n",
      "weight.shape (2, 2, 1, 3)\n",
      "conv2d.shape (1, 3, 3, 3)\n",
      "[[12. 16.  9.]\n",
      " [24. 28. 15.]\n",
      " [15. 17.  9.]]\n",
      "[[120. 160.  90.]\n",
      " [240. 280. 150.]\n",
      " [150. 170.  90.]]\n",
      "[[-12. -16.  -9.]\n",
      " [-24. -28. -15.]\n",
      " [-15. -17.  -9.]]\n"
     ]
    },
    {
     "data": {
      "image/png": "[encoded data removed]",
      "text/plain": [
       "<Figure size 432x288 with 3 Axes>"
      ]
     },
     "metadata": {
      "needs_background": "light"
     },
     "output_type": "display_data"
    }
   ],
   "source": [
    "print(\"image.shape\", image.shape)\n",
    "\n",
    "# filter (weight)\n",
    "weight = np.array([[[[1., 10., -1.]],[[1.,10., -1.]]],\n",
    "                     [[[1.,10.,-1.]],[[1.,10.,-1.]]]])\n",
    "print(\"weight.shape\", weight.shape) #height, width, in_channel, out_channel\n",
    "\n",
    "weight_init = tf.constant_initializer(weight)\n",
    "conv2d = keras.layers.Conv2D(filters=3, kernel_size=2, padding='SAME', kernel_initializer=weight_init)(image)\n",
    "print(\"conv2d.shape\", conv2d.shape)\n",
    "\n",
    "# 여러 필터 사용으로 추가된 코드\n",
    "feature_map = np.swapaxes(conv2d, 0, 3)\n",
    "for i, feature_map in enumerate(feature_map):\n",
    "    print(feature_map.reshape(3,3))\n",
    "    plt.subplot(1, 3, i+1)\n",
    "    plt.imshow(feature_map.reshape(3,3), cmap='gray')\n",
    "\n",
    "plt.show()"
   ]
  },
  {
   "cell_type": "markdown",
   "metadata": {},
   "source": [
    "## Lab 11-0 CNN Basics - Pooling"
   ]
  },
  {
   "cell_type": "markdown",
   "metadata": {},
   "source": [
    "### Max Pooling - padding valid"
   ]
  },
  {
   "cell_type": "code",
   "execution_count": 19,
   "metadata": {},
   "outputs": [
    {
     "name": "stdout",
     "output_type": "stream",
     "text": [
      "(1, 1, 1, 1)\n",
      "[[[[4.]]]]\n"
     ]
    }
   ],
   "source": [
    "# Toy image\n",
    "image = tf.constant([[[[4],[3]],\n",
    "                     [[2],[1]]]], dtype=np.float32)\n",
    "\n",
    "pool = keras.layers.MaxPool2D(pool_size=(2,2), strides=1, padding='VALID')(image)\n",
    "\n",
    "print(pool.shape)\n",
    "print(pool.numpy())"
   ]
  },
  {
   "cell_type": "markdown",
   "metadata": {},
   "source": [
    "### Max Pooling - padding SAME"
   ]
  },
  {
   "cell_type": "code",
   "execution_count": 21,
   "metadata": {},
   "outputs": [
    {
     "name": "stdout",
     "output_type": "stream",
     "text": [
      "(1, 2, 2, 1)\n",
      "[[[[4.]\n",
      "   [3.]]\n",
      "\n",
      "  [[2.]\n",
      "   [1.]]]]\n"
     ]
    }
   ],
   "source": [
    "# Toy image\n",
    "image = tf.constant([[[[4],[3]],\n",
    "                     [[2],[1]]]], dtype=np.float32)\n",
    "\n",
    "pool = keras.layers.MaxPool2D(pool_size=(2,2), strides=1, padding='SAME')(image)\n",
    "# image: [[4,3,0] [2,1,0] [0,0,0]]\n",
    "\n",
    "print(pool.shape)\n",
    "print(pool.numpy())"
   ]
  },
  {
   "cell_type": "markdown",
   "metadata": {},
   "source": [
    "## Convolution Layer example with MNIST data"
   ]
  },
  {
   "cell_type": "markdown",
   "metadata": {},
   "source": [
    "### Loading MNIST data"
   ]
  },
  {
   "cell_type": "code",
   "execution_count": 37,
   "metadata": {},
   "outputs": [
    {
     "data": {
      "image/png": "[encoded data removed]",
      "text/plain": [
       "<Figure size 432x288 with 1 Axes>"
      ]
     },
     "metadata": {
      "needs_background": "light"
     },
     "output_type": "display_data"
    }
   ],
   "source": [
    "mnist = keras.datasets.mnist\n",
    "class_names = ['0','1','2','3','4','5','6','7','8','9']\n",
    "\n",
    "(train_images, train_labels), (test_images, test_labels) = mnist.load_data()\n",
    "\n",
    "train_images = train_images.astype(np.float32) / 255.\n",
    "test_images = test_images.astype(np.float32) / 255.\n",
    "\n",
    "img = train_images[0]\n",
    "plt.imshow(img, cmap='gray')\n",
    "plt.show()"
   ]
  },
  {
   "cell_type": "markdown",
   "metadata": {},
   "source": [
    "### Convolution Layer - Output Feature Maps"
   ]
  },
  {
   "cell_type": "code",
   "execution_count": 38,
   "metadata": {},
   "outputs": [
    {
     "name": "stdout",
     "output_type": "stream",
     "text": [
      "(1, 14, 14, 5)\n"
     ]
    },
    {
     "data": {
      "image/png": "[encoded data removed]",
      "text/plain": [
       "<Figure size 432x288 with 5 Axes>"
      ]
     },
     "metadata": {
      "needs_background": "light"
     },
     "output_type": "display_data"
    }
   ],
   "source": [
    "img = img.reshape(-1,28,28,1) # 4차원으로 변경. 첫 param은 batch\n",
    "img = tf.convert_to_tensor(img) #numpy에서 tensor로 타입 변경\n",
    "\n",
    "weight_init = keras.initializers.RandomNormal(stddev=0.01) # filter\n",
    "conv2d = keras.layers.Conv2D(filters=5, kernel_size=3, strides=(2,2), padding='SAME', kernel_initializer=weight_init)(img)\n",
    "print(conv2d.shape) #14x14 image로 변환\n",
    "\n",
    "feature_maps = np.swapaxes(conv2d, 0, 3)\n",
    "for i, feature_map in enumerate(feature_maps):\n",
    "    plt.subplot(1,5,i+1)\n",
    "    plt.imshow(feature_map.reshape(14,14), cmap='gray')\n",
    "plt.show()"
   ]
  },
  {
   "cell_type": "markdown",
   "metadata": {},
   "source": [
    "### Pooling Layer - Output Feature Maps"
   ]
  },
  {
   "cell_type": "code",
   "execution_count": 42,
   "metadata": {},
   "outputs": [
    {
     "name": "stdout",
     "output_type": "stream",
     "text": [
      "(1, 7, 7, 5)\n"
     ]
    },
    {
     "data": {
      "image/png": "[encoded data removed]",
      "text/plain": [
       "<Figure size 432x288 with 5 Axes>"
      ]
     },
     "metadata": {
      "needs_background": "light"
     },
     "output_type": "display_data"
    }
   ],
   "source": [
    "pool = keras.layers.MaxPool2D(pool_size=(2,2), strides=(2,2), padding='SAME')(conv2d)\n",
    "print(pool.shape) #14x14 -> 7x7\n",
    "\n",
    "feature_maps = np.swapaxes(pool, 0, 3)\n",
    "for i, feature_map in enumerate(feature_maps):\n",
    "    plt.subplot(1,5,i+1)\n",
    "    plt.imshow(feature_map.reshape(7,7), cmap='gray')\n",
    "plt.show()"
   ]
  }
 ],
 "metadata": {
  "kernelspec": {
   "display_name": "Python 3",
   "language": "python",
   "name": "python3"
  },
  "language_info": {
   "codemirror_mode": {
    "name": "ipython",
    "version": 3
   },
   "file_extension": ".py",
   "mimetype": "text/x-python",
   "name": "python",
   "nbconvert_exporter": "python",
   "pygments_lexer": "ipython3",
   "version": "3.8.5"
  }
 },
 "nbformat": 4,
 "nbformat_minor": 4
}
