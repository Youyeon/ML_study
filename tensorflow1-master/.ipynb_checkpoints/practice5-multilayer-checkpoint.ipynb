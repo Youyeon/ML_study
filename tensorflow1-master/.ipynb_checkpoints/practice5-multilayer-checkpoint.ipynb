{
 "cells": [
  {
   "cell_type": "markdown",
   "metadata": {
    "colab_type": "text",
    "id": "ecbNH6UeNxDm"
   },
   "source": [
    "# 히든레이어\n",
    "\n",
    "- 보스턴 집값 예측: https://raw.githubusercontent.com/blackdew/tensorflow1/master/csv/boston.csv\n",
    "\n",
    "- 아이리스 품종 분류: https://raw.githubusercontent.com/blackdew/tensorflow1/master/csv/iris.csv \n"
   ]
  },
  {
   "cell_type": "code",
   "execution_count": null,
   "metadata": {
    "colab": {},
    "colab_type": "code",
    "id": "lB0htFvCNrnX"
   },
   "outputs": [],
   "source": [
    "# 라이브러리 사용\n",
    "import tensorflow as tf\n",
    "import pandas as pd"
   ]
  },
  {
   "cell_type": "markdown",
   "metadata": {
    "colab_type": "text",
    "id": "8E-uWImTOsEW"
   },
   "source": [
    "## 보스턴 집값 예측"
   ]
  },
  {
   "cell_type": "code",
   "execution_count": null,
   "metadata": {
    "colab": {},
    "colab_type": "code",
    "id": "5seJatAXOgPs"
   },
   "outputs": [],
   "source": [
    "# 1.과거의 데이터를 준비합니다.\n",
    "파일경로 = 'https://raw.githubusercontent.com/blackdew/tensorflow1/master/csv/boston.csv'\n",
    "보스턴 = pd.read_csv(파일경로)\n",
    "\n",
    "# 종속변수, 독립변수\n",
    "독립 = 보스턴[['crim', 'zn', 'indus', 'chas', 'nox', \n",
    "            'rm', 'age', 'dis', 'rad', 'tax',\n",
    "            'ptratio', 'b', 'lstat']]\n",
    "종속 = 보스턴[['medv']]\n",
    "print(독립.shape, 종속.shape)"
   ]
  },
  {
   "cell_type": "code",
   "execution_count": null,
   "metadata": {
    "colab": {},
    "colab_type": "code",
    "id": "vfkJqttEOiJt"
   },
   "outputs": [],
   "source": [
    "# 2. 모델의 구조를 만듭니다\n",
    "X = tf.keras.layers.Input(shape=[13])\n",
    "H = tf.keras.layers.Dense(10, activation='swish')(X)\n",
    "Y = tf.keras.layers.Dense(1)(H)\n",
    "model = tf.keras.models.Model(X, Y)\n",
    "model.compile(loss='mse')"
   ]
  },
  {
   "cell_type": "code",
   "execution_count": null,
   "metadata": {
    "colab": {},
    "colab_type": "code",
    "id": "3m3Ap3YVYQIZ"
   },
   "outputs": [],
   "source": [
    "# 모델 구조 확인\n",
    "model.summary()"
   ]
  },
  {
   "cell_type": "code",
   "execution_count": null,
   "metadata": {
    "colab": {},
    "colab_type": "code",
    "id": "jMNsfnzyOoDm"
   },
   "outputs": [],
   "source": [
    "# 3.데이터로 모델을 학습(FIT)합니다.\n",
    "model.fit(독립, 종속, epochs=100)"
   ]
  },
  {
   "cell_type": "code",
   "execution_count": null,
   "metadata": {
    "colab": {},
    "colab_type": "code",
    "id": "7myiwud5Opdo"
   },
   "outputs": [],
   "source": [
    "# 4. 모델을 이용합니다\n",
    "print(model.predict(독립[:5]))\n",
    "print(종속[:5])"
   ]
  },
  {
   "cell_type": "markdown",
   "metadata": {
    "colab_type": "text",
    "id": "UNjrnjjeOzJr"
   },
   "source": [
    "## 아이리스 품종 분류\n"
   ]
  },
  {
   "cell_type": "code",
   "execution_count": null,
   "metadata": {
    "colab": {},
    "colab_type": "code",
    "id": "8UaitxOBOyrF"
   },
   "outputs": [],
   "source": [
    "# 1.과거의 데이터를 준비합니다.\n",
    "파일경로 = 'https://raw.githubusercontent.com/blackdew/tensorflow1/master/csv/iris.csv'\n",
    "아이리스 = pd.read_csv(파일경로)\n",
    "\n",
    "# 원핫인코딩\n",
    "아이리스 = pd.get_dummies(아이리스)\n",
    "\n",
    "# 종속변수, 독립변수\n",
    "독립 = 아이리스[['꽃잎길이', '꽃잎폭', '꽃받침길이', '꽃받침폭']]\n",
    "종속 = 아이리스[['품종_setosa', '품종_versicolor', '품종_virginica']]\n",
    "print(독립.shape, 종속.shape)"
   ]
  },
  {
   "cell_type": "code",
   "execution_count": null,
   "metadata": {
    "colab": {},
    "colab_type": "code",
    "id": "WybEdUjlO1UY"
   },
   "outputs": [],
   "source": [
    "# 2. 모델의 구조를 만듭니다\n",
    "X = tf.keras.layers.Input(shape=[4])\n",
    "H = tf.keras.layers.Dense(8, activation=\"swish\")(X)\n",
    "H = tf.keras.layers.Dense(8, activation=\"swish\")(H)\n",
    "H = tf.keras.layers.Dense(8, activation=\"swish\")(H)\n",
    "Y = tf.keras.layers.Dense(3, activation='softmax')(H)\n",
    "model = tf.keras.models.Model(X, Y)\n",
    "model.compile(loss='categorical_crossentropy',\n",
    "              metrics='accuracy')"
   ]
  },
  {
   "cell_type": "code",
   "execution_count": null,
   "metadata": {
    "colab": {},
    "colab_type": "code",
    "id": "1pMmno2taozU"
   },
   "outputs": [],
   "source": [
    "# 모델 구조 확인\n",
    "model.summary()"
   ]
  },
  {
   "cell_type": "code",
   "execution_count": null,
   "metadata": {
    "colab": {},
    "colab_type": "code",
    "id": "19E6GPw9O2Ge"
   },
   "outputs": [],
   "source": [
    "# 3.데이터로 모델을 학습(FIT)합니다.\n",
    "model.fit(독립, 종속, epochs=100)"
   ]
  },
  {
   "cell_type": "code",
   "execution_count": null,
   "metadata": {
    "colab": {},
    "colab_type": "code",
    "id": "S2zow9BvO3hx"
   },
   "outputs": [],
   "source": [
    "# 4. 모델을 이용합니다\n",
    "print(model.predict(독립[0:5]))\n",
    "print(종속[0:5])"
   ]
  },
  {
   "cell_type": "code",
   "execution_count": null,
   "metadata": {
    "colab": {},
    "colab_type": "code",
    "id": "apXTk3h6ZOXt"
   },
   "outputs": [],
   "source": []
  }
 ],
 "metadata": {
  "accelerator": "GPU",
  "colab": {
   "authorship_tag": "ABX9TyNVAbiEZEXwvo4AKx/uC0R4",
   "collapsed_sections": [],
   "name": "practice5-multilayer.ipynb",
   "provenance": []
  },
  "kernelspec": {
   "display_name": "Python 3",
   "language": "python",
   "name": "python3"
  },
  "language_info": {
   "codemirror_mode": {
    "name": "ipython",
    "version": 3
   },
   "file_extension": ".py",
   "mimetype": "text/x-python",
   "name": "python",
   "nbconvert_exporter": "python",
   "pygments_lexer": "ipython3",
   "version": "3.8.5"
  }
 },
 "nbformat": 4,
 "nbformat_minor": 1
}
