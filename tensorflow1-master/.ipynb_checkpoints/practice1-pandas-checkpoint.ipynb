{
 "cells": [
  {
   "cell_type": "markdown",
   "metadata": {
    "colab_type": "text",
    "id": "U3dDH1KaZlEH"
   },
   "source": [
    "# 데이터 준비하기 1\n",
    "\n",
    "1. 데이터를 불러온다 \n",
    "2. 종속변수와 독립변수로 분리한다. \n",
    "\n",
    "- 실습을 통해 배울 도구들\n",
    "  - 파일 읽어오기: **read_csv('/경로/파일명.csv')**\n",
    "  - 모양 확인하기: **데이터.shape**\n",
    "  - 칼럼 선택하기: **데이터[['칼럼명1', '칼럼명2', '칼럼명3']]**\n",
    "  - 칼럼 이름 출력하기: **데이터.columns**\n",
    "  - 맨 위 5개 관측치 출력하기: **데이터.head()**\n",
    "\n",
    "- 샘플 데이터 \n",
    "  - GitHub github link: https://github.com/blackdew/tensorflow1/tree/master/csv\n",
    "  - 레모네이드: https://raw.githubusercontent.com/blackdew/tensorflow1/master/csv/lemonade.csv\n",
    "  - 보스톤: https://raw.githubusercontent.com/blackdew/tensorflow1/master/csv/boston.csv\n",
    "  - 아이리스: https://raw.githubusercontent.com/blackdew/tensorflow1/master/csv/iris.csv\n",
    "\n",
    "\n",
    "\n"
   ]
  },
  {
   "cell_type": "code",
   "execution_count": 1,
   "metadata": {
    "colab": {},
    "colab_type": "code",
    "executionInfo": {
     "elapsed": 1055,
     "status": "ok",
     "timestamp": 1597248105291,
     "user": {
      "displayName": "sookbun lee",
      "photoUrl": "https://lh3.googleusercontent.com/a-/AOh14GgUGRbDfaHz1yWnz8H7rtj727e_IGTUg1r2G7LAYMI=s64",
      "userId": "12594703987274118169"
     },
     "user_tz": -540
    },
    "id": "71HBw1fs177j"
   },
   "outputs": [],
   "source": [
    "import pandas as pd"
   ]
  },
  {
   "cell_type": "code",
   "execution_count": null,
   "metadata": {
    "colab": {},
    "colab_type": "code",
    "id": "_myrHmZy1WBA"
   },
   "outputs": [],
   "source": [
    "# 파일로부터 데이터 읽어오기\n",
    "파일경로 = 'https://raw.githubusercontent.com/blackdew/tensorflow1/master/csv/lemonade.csv'\n",
    "레모네이드 = pd.read_csv(파일경로)\n",
    "\n",
    "파일경로 = 'https://raw.githubusercontent.com/blackdew/tensorflow1/master/csv/boston.csv'\n",
    "보스턴 = pd.read_csv(파일경로)\n",
    "\n",
    "파일경로 = 'https://raw.githubusercontent.com/blackdew/tensorflow1/master/csv/iris.csv'\n",
    "아이리스 = pd.read_csv(파일경로)"
   ]
  },
  {
   "cell_type": "code",
   "execution_count": null,
   "metadata": {
    "colab": {},
    "colab_type": "code",
    "id": "43Mfb9KQ1nVG"
   },
   "outputs": [],
   "source": [
    "# 데이터의 모양확인\n",
    "print(레모네이드.shape)\n",
    "print(보스턴.shape)\n",
    "print(아이리스.shape)"
   ]
  },
  {
   "cell_type": "code",
   "execution_count": null,
   "metadata": {
    "colab": {},
    "colab_type": "code",
    "id": "WxKyuG9P132N"
   },
   "outputs": [],
   "source": [
    "# 데이터 칼럼이름 확인\n",
    "print(레모네이드.columns)\n",
    "print(보스턴.columns)\n",
    "print(아이리스.columns)"
   ]
  },
  {
   "cell_type": "code",
   "execution_count": null,
   "metadata": {
    "colab": {},
    "colab_type": "code",
    "id": "RbNiZils1_xI"
   },
   "outputs": [],
   "source": [
    "# 독립변수와 종속변수 분리\n",
    "독립 = 레모네이드[['온도']]\n",
    "종속 = 레모네이드[['판매량']]\n",
    "print(독립.shape, 종속.shape)\n",
    "\n",
    "독립 = 보스턴[['crim', 'zn', 'indus', 'chas', 'nox', \n",
    "            'rm', 'age', 'dis', 'rad', 'tax',\n",
    "            'ptratio', 'b', 'lstat']]\n",
    "종속 = 보스턴[['medv']]\n",
    "print(독립.shape, 종속.shape)\n",
    "\n",
    "독립 = 아이리스[['꽃잎길이', '꽃잎폭', '꽃받침길이', '꽃받침폭']]\n",
    "종속 = 아이리스[['품종']]\n",
    "print(독립.shape, 종속.shape)"
   ]
  },
  {
   "cell_type": "markdown",
   "metadata": {
    "colab_type": "text",
    "id": "T3AL7bNfuZSu"
   },
   "source": [
    "#### 각각의 데이터 확인해보기 "
   ]
  },
  {
   "cell_type": "code",
   "execution_count": null,
   "metadata": {
    "colab": {},
    "colab_type": "code",
    "id": "kLOD_t4g2ilD"
   },
   "outputs": [],
   "source": [
    "레모네이드.head()"
   ]
  },
  {
   "cell_type": "code",
   "execution_count": null,
   "metadata": {
    "colab": {},
    "colab_type": "code",
    "id": "RnwYAFER25g0"
   },
   "outputs": [],
   "source": [
    "보스턴.head()"
   ]
  },
  {
   "cell_type": "code",
   "execution_count": null,
   "metadata": {
    "colab": {},
    "colab_type": "code",
    "id": "Gn7tPFiD27zY"
   },
   "outputs": [],
   "source": [
    "아이리스.head()"
   ]
  },
  {
   "cell_type": "code",
   "execution_count": null,
   "metadata": {
    "colab": {},
    "colab_type": "code",
    "id": "ewj13HG329RU"
   },
   "outputs": [],
   "source": []
  }
 ],
 "metadata": {
  "colab": {
   "authorship_tag": "ABX9TyMKBqFQ8+SE5+SVQaeghFze",
   "collapsed_sections": [],
   "name": "실습1 - 표를 다루는 도구 - 판다스.ipynb",
   "provenance": []
  },
  "kernelspec": {
   "display_name": "Python 3",
   "language": "python",
   "name": "python3"
  },
  "language_info": {
   "codemirror_mode": {
    "name": "ipython",
    "version": 3
   },
   "file_extension": ".py",
   "mimetype": "text/x-python",
   "name": "python",
   "nbconvert_exporter": "python",
   "pygments_lexer": "ipython3",
   "version": "3.8.5"
  }
 },
 "nbformat": 4,
 "nbformat_minor": 1
}
